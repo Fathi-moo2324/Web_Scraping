{
 "cells": [
  {
   "cell_type": "markdown",
   "id": "1641dcd8-4329-4646-bf41-c858de889222",
   "metadata": {},
   "source": [
    "### Task Description:\n",
    "    You are tasked to perform web scraping on a provided HTML page that contains different types of elements.\n",
    "    The goal is to extract spexcific data from the page and process it into structured formats \n",
    "    such as CSV or JSON."
   ]
  },
  {
   "cell_type": "code",
   "execution_count": 1,
   "id": "29b76760-43c6-458d-8dc1-5458c1820366",
   "metadata": {},
   "outputs": [],
   "source": [
    "import requests\n",
    "from bs4 import BeautifulSoup\n",
    "import csv\n",
    "import json"
   ]
  },
  {
   "cell_type": "code",
   "execution_count": 3,
   "id": "12aca8ec-f3de-403a-9bc8-dd8a2a02b2d6",
   "metadata": {},
   "outputs": [
    {
     "name": "stdout",
     "output_type": "stream",
     "text": [
      "URL of the webpage to scrape is  :  https://www.baraasallout.com/test.html\n"
     ]
    }
   ],
   "source": [
    "url = \"https://www.baraasallout.com/test.html\"\n",
    "print('URL of the webpage to scrape is  : ' , url)"
   ]
  },
  {
   "cell_type": "code",
   "execution_count": 5,
   "id": "794b1153-b1c2-4888-a491-c76b88f2dc7d",
   "metadata": {},
   "outputs": [
    {
     "data": {
      "text/plain": [
       "<Response [200]>"
      ]
     },
     "execution_count": 5,
     "metadata": {},
     "output_type": "execute_result"
    }
   ],
   "source": [
    "# Fetch the webpage\n",
    "response = requests.get(url)\n",
    "response"
   ]
  },
  {
   "cell_type": "code",
   "execution_count": 6,
   "id": "bbd78314-47bd-41ed-b0d5-6eca77068a99",
   "metadata": {},
   "outputs": [
    {
     "data": {
      "text/plain": [
       "<!DOCTYPE html>\n",
       "\n",
       "<html>\n",
       "<head>\n",
       "<title>Web Scraping Task with Form</title>\n",
       "<style>\n",
       "        body {\n",
       "            font-family: Arial, sans-serif;\n",
       "            margin: 20px;\n",
       "            background-color: #f5f5f5;\n",
       "        }\n",
       "\n",
       "        h1 {\n",
       "            color: darkred;\n",
       "            text-align: center;\n",
       "        }\n",
       "\n",
       "        h2 {\n",
       "            color: darkblue;\n",
       "            font-style: italic;\n",
       "        }\n",
       "\n",
       "        p {\n",
       "            color: #555;\n",
       "            font-size: 14px;\n",
       "        }\n",
       "\n",
       "        img {\n",
       "            width: 250px;\n",
       "            height: auto;\n",
       "            border-radius: 10px;\n",
       "        }\n",
       "\n",
       "        table {\n",
       "            width: 100%;\n",
       "            border-collapse: collapse;\n",
       "            margin: 20px 0;\n",
       "        }\n",
       "\n",
       "        table, th, td {\n",
       "            border: 1px solid #ccc;\n",
       "        }\n",
       "\n",
       "        th {\n",
       "            background-color: #333;\n",
       "            color: white;\n",
       "            padding: 10px;\n",
       "        }\n",
       "\n",
       "        td {\n",
       "            text-align: center;\n",
       "            padding: 10px;\n",
       "        }\n",
       "\n",
       "        .btn {\n",
       "            background-color: darkgreen;\n",
       "            color: white;\n",
       "            border: none;\n",
       "            padding: 10px 20px;\n",
       "            cursor: pointer;\n",
       "            text-transform: uppercase;\n",
       "            font-weight: bold;\n",
       "        }\n",
       "\n",
       "        .btn:hover {\n",
       "            background-color: green;\n",
       "        }\n",
       "\n",
       "        ul {\n",
       "            list-style-type: square;\n",
       "        }\n",
       "\n",
       "        iframe {\n",
       "            display: block;\n",
       "            margin: 20px auto;\n",
       "            border: none;\n",
       "        }\n",
       "\n",
       "        .footer {\n",
       "            background-color: #333;\n",
       "            color: white;\n",
       "            text-align: center;\n",
       "            padding: 10px 0;\n",
       "            margin-top: 30px;\n",
       "        }\n",
       "\n",
       "        .highlight {\n",
       "            background-color: yellow;\n",
       "            font-weight: bold;\n",
       "        }\n",
       "\n",
       "        form {\n",
       "            margin: 20px 0;\n",
       "            background-color: #fff;\n",
       "            padding: 20px;\n",
       "            border: 1px solid #ccc;\n",
       "            border-radius: 5px;\n",
       "        }\n",
       "\n",
       "        form input, form select, form button {\n",
       "            display: block;\n",
       "            margin: 10px 0;\n",
       "            padding: 10px;\n",
       "            width: 100%;\n",
       "            max-width: 400px;\n",
       "            border: 1px solid #ccc;\n",
       "            border-radius: 5px;\n",
       "        }\n",
       "\n",
       "        .products {\n",
       "            display: flex;\n",
       "            flex-wrap: wrap;\n",
       "            justify-content: center;\n",
       "            gap: 20px;\n",
       "            margin-top: 30px;\n",
       "        }\n",
       "\n",
       "        .product-card {\n",
       "            width: 250px;\n",
       "            border: 1px solid #ddd;\n",
       "            border-radius: 8px;\n",
       "            background-color: #fff;\n",
       "            box-shadow: 0 4px 6px rgba(0, 0, 0, 0.1);\n",
       "            text-align: center;\n",
       "            overflow: hidden;\n",
       "            transition: transform 0.3s ease, box-shadow 0.3s ease;\n",
       "        }\n",
       "\n",
       "        .product-card:hover {\n",
       "            transform: translateY(-5px);\n",
       "            box-shadow: 0 8px 12px rgba(0, 0, 0, 0.2);\n",
       "        }\n",
       "\n",
       "        .product-card img {\n",
       "            width: 100%;\n",
       "            height: 150px;\n",
       "            object-fit: cover;\n",
       "        }\n",
       "\n",
       "        .product-card .name {\n",
       "            font-size: 18px;\n",
       "            font-weight: bold;\n",
       "            margin: 15px 0 5px;\n",
       "            color: #333;\n",
       "        }\n",
       "\n",
       "        .product-card .price {\n",
       "            font-size: 16px;\n",
       "            color: #28a745;\n",
       "            margin: 5px 0;\n",
       "        }\n",
       "\n",
       "        .product-card .colors {\n",
       "            font-size: 14px;\n",
       "            color: #666;\n",
       "            margin-bottom: 15px;\n",
       "        }\n",
       "\n",
       "        .product-card button {\n",
       "            background-color: #007bff;\n",
       "            color: white;\n",
       "            border: none;\n",
       "            padding: 10px 20px;\n",
       "            margin: 10px 0;\n",
       "            cursor: pointer;\n",
       "            border-radius: 5px;\n",
       "            font-size: 14px;\n",
       "            transition: background-color 0.3s ease;\n",
       "        }\n",
       "\n",
       "        .product-card button:hover {\n",
       "            background-color: #0056b3;\n",
       "        }\n",
       "    </style>\n",
       "</head>\n",
       "<body>\n",
       "<h1>Web Scraping Practice</h1>\n",
       "<p>Welcome to the web scraping task! Use your skills to extract the required data from this page.</p>\n",
       "<h2>Available Products</h2>\n",
       "<ul>\n",
       "<li class=\"highlight\">Laptop</li>\n",
       "<li>Smartphone</li>\n",
       "<li>Tablet</li>\n",
       "<li>Smartwatch</li>\n",
       "</ul>\n",
       "<h2>Product Table</h2>\n",
       "<table>\n",
       "<tr>\n",
       "<th>Product</th>\n",
       "<th>Price</th>\n",
       "<th>In Stock</th>\n",
       "</tr>\n",
       "<tr>\n",
       "<td>Laptop</td>\n",
       "<td>$1000</td>\n",
       "<td>Yes</td>\n",
       "</tr>\n",
       "<tr>\n",
       "<td>Smartphone</td>\n",
       "<td>$800</td>\n",
       "<td>No</td>\n",
       "</tr>\n",
       "<tr>\n",
       "<td>Tablet</td>\n",
       "<td>$500</td>\n",
       "<td>Yes</td>\n",
       "</tr>\n",
       "</table>\n",
       "<h2>Watch This Video</h2>\n",
       "<iframe height=\"315\" src=\"https://www.youtube.com/watch?v=ujf9RNuBdCU\" width=\"560\"></iframe>\n",
       "<h2>Contact Us</h2>\n",
       "<form>\n",
       "<label for=\"username\">Username:</label>\n",
       "<input id=\"username\" name=\"username\" placeholder=\"Enter your username\" type=\"text\"/>\n",
       "<label for=\"password\">Password:</label>\n",
       "<input id=\"password\" name=\"password\" placeholder=\"Enter your password\" type=\"password\"/>\n",
       "<label for=\"options\">Choose an option:</label>\n",
       "<select id=\"options\" name=\"options\">\n",
       "<option value=\"option1\">Option 1</option>\n",
       "<option value=\"option2\">Option 2</option>\n",
       "<option value=\"option3\">Option 3</option>\n",
       "</select>\n",
       "<label>\n",
       "<input name=\"terms\" type=\"checkbox\"/> I agree to the terms and conditions\n",
       "            </label>\n",
       "<input type=\"submit\" value=\"Submit\"/>\n",
       "</form>\n",
       "<h2>Product Information</h2>\n",
       "<div style=\"display: flex; justify-content: space-around; margin-top: 20px;\">\n",
       "<div style=\"text-align: center; width: 200px; border: 1px solid #ddd; padding: 10px; border-radius: 5px;\">\n",
       "<img alt=\"Sharp Objects\" src=\"book1.jpg\" style=\"width: 100%; height: auto; border-radius: 5px;\"/>\n",
       "<p><strong>Sharp Objects</strong></p>\n",
       "<p style=\"color: green;\">£47.82</p>\n",
       "<p style=\"color: green;\">✔ In stock</p>\n",
       "<button style=\"background-color: blue; color: white; border: none; padding: 10px 15px; border-radius: 5px; cursor: pointer;\">Add to basket</button>\n",
       "</div>\n",
       "<div style=\"text-align: center; width: 200px; border: 1px solid #ddd; padding: 10px; border-radius: 5px;\">\n",
       "<img alt=\"In a Dark, Dark Wood\" src=\"book2.jpg\" style=\"width: 100%; height: auto; border-radius: 5px;\"/>\n",
       "<p><strong>In a Dark, Dark Wood</strong></p>\n",
       "<p style=\"color: green;\">£19.63</p>\n",
       "<p style=\"color: green;\">✔ In stock</p>\n",
       "<button style=\"background-color: blue; color: white; border: none; padding: 10px 15px; border-radius: 5px; cursor: pointer;\">Add to basket</button>\n",
       "</div>\n",
       "<div style=\"text-align: center; width: 200px; border: 1px solid #ddd; padding: 10px; border-radius: 5px;\">\n",
       "<img alt=\"The Past Never Ends\" href=\"http://books.toscrape.com/media/cache/c0/59/c05972805aa7201171b8fc71a5b00292.jpg\" style=\"width: 100%; height: auto; border-radius: 5px;\"/>\n",
       "<p><strong>The Past Never Ends</strong></p>\n",
       "<p style=\"color: green;\">£56.50</p>\n",
       "<p style=\"color: green;\">✔ In stock</p>\n",
       "<button style=\"background-color: blue; color: white; border: none; padding: 10px 15px; border-radius: 5px; cursor: pointer;\">Add to basket</button>\n",
       "</div>\n",
       "<div style=\"text-align: center; width: 200px; border: 1px solid #ddd; padding: 10px; border-radius: 5px;\">\n",
       "<img alt=\"A Murder in Time\" src=\"book4.jpg\" style=\"width: 100%; height: auto; border-radius: 5px;\"/>\n",
       "<p><strong>A Murder in Time</strong></p>\n",
       "<p style=\"color: green;\">£16.64</p>\n",
       "<p style=\"color: green;\"> Out stock</p>\n",
       "<button style=\"background-color: blue; color: white; border: none; padding: 10px 15px; border-radius: 5px; cursor: pointer;\">Add to basket</button>\n",
       "</div>\n",
       "</div>\n",
       "<h2>Featured Products</h2>\n",
       "<div class=\"products\">\n",
       "<div class=\"product-card\" data-id=\"101\">\n",
       "<img alt=\"Wireless Headphones\" src=\"https://via.placeholder.com/250x150?text=Product+1\"/>\n",
       "<p class=\"name\">Wireless Headphones</p>\n",
       "<p class=\"price\" style=\"display: none;\">$49.99</p>\n",
       "<p class=\"colors\">Available colors: Black, White, Blue</p>\n",
       "<button>Add to Basket</button>\n",
       "</div>\n",
       "<div class=\"product-card\" data-id=\"102\">\n",
       "<img alt=\"Smart Speaker\" src=\"https://via.placeholder.com/250x150?text=Product+2\"/>\n",
       "<p class=\"name\">Smart Speaker</p>\n",
       "<p class=\"price\" style=\"display: none;\">$89.99</p>\n",
       "<p class=\"colors\">Available colors: Grey, Black</p>\n",
       "<button>Add to Basket</button>\n",
       "</div>\n",
       "<div class=\"product-card\" data-id=\"103\">\n",
       "<img alt=\"Smart Watch\" src=\"https://via.placeholder.com/250x150?text=Product+3\"/>\n",
       "<p class=\"name\">Smart Watch</p>\n",
       "<p class=\"price\" style=\"display: none;\">$149.99</p>\n",
       "<p class=\"colors\">Available colors: Black, Silver, Gold</p>\n",
       "<button>Add to Basket</button>\n",
       "</div>\n",
       "</div>\n",
       "<div class=\"footer\">\n",
       "<p>© 2024 Web Scraping Practice. All Rights Reserved.</p>\n",
       "</div>\n",
       "</body>\n",
       "</html>"
      ]
     },
     "execution_count": 6,
     "metadata": {},
     "output_type": "execute_result"
    }
   ],
   "source": [
    "soup = BeautifulSoup(response.content, 'html.parser')\n",
    "soup"
   ]
  },
  {
   "cell_type": "markdown",
   "id": "cd7ecdfd-74be-433a-b97e-a9641692fddf",
   "metadata": {},
   "source": [
    "     1. Extract Text Data: ()\n",
    "     ● Extract all headings (<h1>, <h2>).\n",
    "     ● Extract all text content inside <p> and <li> tags\n",
    "     ● Savethis data into a Extract_Text_Data.CSV file.\n",
    "https://www.pythontutorial.net/python-basics/python-write-csv-file"
   ]
  },
  {
   "cell_type": "code",
   "execution_count": 8,
   "id": "1218068a-1d76-473b-a951-81b3c342ab6b",
   "metadata": {},
   "outputs": [
    {
     "data": {
      "text/plain": [
       "['Web Scraping Practice',\n",
       " 'Available Products',\n",
       " 'Product Table',\n",
       " 'Watch This Video',\n",
       " 'Contact Us',\n",
       " 'Product Information',\n",
       " 'Featured Products']"
      ]
     },
     "execution_count": 8,
     "metadata": {},
     "output_type": "execute_result"
    }
   ],
   "source": [
    "# 1. Extract Text Data\n",
    "headings = [tag.text for tag in soup.find_all(['h1', 'h2'])]\n",
    "headings"
   ]
  },
  {
   "cell_type": "code",
   "execution_count": 9,
   "id": "ec058358-61a9-4507-ba5c-be4a8881b8e9",
   "metadata": {},
   "outputs": [
    {
     "data": {
      "text/plain": [
       "['Welcome to the web scraping task! Use your skills to extract the required data from this page.',\n",
       " 'Sharp Objects',\n",
       " '£47.82',\n",
       " '✔ In stock',\n",
       " 'In a Dark, Dark Wood',\n",
       " '£19.63',\n",
       " '✔ In stock',\n",
       " 'The Past Never Ends',\n",
       " '£56.50',\n",
       " '✔ In stock',\n",
       " 'A Murder in Time',\n",
       " '£16.64',\n",
       " ' Out stock',\n",
       " 'Wireless Headphones',\n",
       " '$49.99',\n",
       " 'Available colors: Black, White, Blue',\n",
       " 'Smart Speaker',\n",
       " '$89.99',\n",
       " 'Available colors: Grey, Black',\n",
       " 'Smart Watch',\n",
       " '$149.99',\n",
       " 'Available colors: Black, Silver, Gold',\n",
       " '© 2024 Web Scraping Practice. All Rights Reserved.']"
      ]
     },
     "execution_count": 9,
     "metadata": {},
     "output_type": "execute_result"
    }
   ],
   "source": [
    "paragraphs = [tag.text for tag in soup.find_all('p')]\n",
    "paragraphs"
   ]
  },
  {
   "cell_type": "code",
   "execution_count": 10,
   "id": "52db2a79-a2a1-43a0-bf6a-46e24c104487",
   "metadata": {},
   "outputs": [
    {
     "data": {
      "text/plain": [
       "['Laptop', 'Smartphone', 'Tablet', 'Smartwatch']"
      ]
     },
     "execution_count": 10,
     "metadata": {},
     "output_type": "execute_result"
    }
   ],
   "source": [
    "list_items = [tag.text for tag in soup.find_all('li')]\n",
    "list_items"
   ]
  },
  {
   "cell_type": "code",
   "execution_count": 11,
   "id": "3fb3b1dd-13c9-48eb-a903-6feb2c5cfce8",
   "metadata": {},
   "outputs": [],
   "source": [
    "with open('Extract_Text_Data.csv', 'w', newline='', encoding='utf-8') as file:\n",
    "    writer = csv.writer(file)\n",
    "    writer.writerow(['Type', 'Content'])\n",
    "    for heading in headings:\n",
    "        writer.writerow(['Heading', heading])\n",
    "    for paragraph in paragraphs:\n",
    "        writer.writerow(['Paragraph', paragraph])\n",
    "    for item in list_items:\n",
    "        writer.writerow(['List Item', item])"
   ]
  },
  {
   "cell_type": "markdown",
   "id": "bdb0d5fc-2128-44a0-ab8d-f03c6fa1010b",
   "metadata": {},
   "source": [
    "    2. Extract Table Data:\n",
    "     ● Extract data from the table, including:\n",
    "     ● Product Name.\n",
    "     ● Price.\n",
    "     ● StockStatus.\n",
    "     ● Savethis data into a Extract_Table_Data.CSV file.\n",
    "https://www.pythontutorial.net/python-basics/python-write-csv-file/"
   ]
  },
  {
   "cell_type": "code",
   "execution_count": 12,
   "id": "136d699a-e45e-4e24-99f7-1c8c57a3289b",
   "metadata": {},
   "outputs": [
    {
     "data": {
      "text/plain": [
       "<table>\n",
       "<tr>\n",
       "<th>Product</th>\n",
       "<th>Price</th>\n",
       "<th>In Stock</th>\n",
       "</tr>\n",
       "<tr>\n",
       "<td>Laptop</td>\n",
       "<td>$1000</td>\n",
       "<td>Yes</td>\n",
       "</tr>\n",
       "<tr>\n",
       "<td>Smartphone</td>\n",
       "<td>$800</td>\n",
       "<td>No</td>\n",
       "</tr>\n",
       "<tr>\n",
       "<td>Tablet</td>\n",
       "<td>$500</td>\n",
       "<td>Yes</td>\n",
       "</tr>\n",
       "</table>"
      ]
     },
     "execution_count": 12,
     "metadata": {},
     "output_type": "execute_result"
    }
   ],
   "source": [
    "# 2. Extract Table Data\n",
    "table = soup.find('table')\n",
    "table"
   ]
  },
  {
   "cell_type": "code",
   "execution_count": 13,
   "id": "1d851cad-da48-4849-bbd8-912a1f0fd4d2",
   "metadata": {},
   "outputs": [
    {
     "data": {
      "text/plain": [
       "[<tr>\n",
       " <th>Product</th>\n",
       " <th>Price</th>\n",
       " <th>In Stock</th>\n",
       " </tr>,\n",
       " <tr>\n",
       " <td>Laptop</td>\n",
       " <td>$1000</td>\n",
       " <td>Yes</td>\n",
       " </tr>,\n",
       " <tr>\n",
       " <td>Smartphone</td>\n",
       " <td>$800</td>\n",
       " <td>No</td>\n",
       " </tr>,\n",
       " <tr>\n",
       " <td>Tablet</td>\n",
       " <td>$500</td>\n",
       " <td>Yes</td>\n",
       " </tr>]"
      ]
     },
     "execution_count": 13,
     "metadata": {},
     "output_type": "execute_result"
    }
   ],
   "source": [
    "rows = table.find_all('tr')\n",
    "rows"
   ]
  },
  {
   "cell_type": "code",
   "execution_count": 15,
   "id": "25a8f70b-3c36-45f0-beea-bff2f693c423",
   "metadata": {},
   "outputs": [],
   "source": [
    "with open('Extract_Table_Data.csv', 'w', newline='', encoding='utf-8') as file:\n",
    "    writer = csv.writer(file)\n",
    "    writer.writerow(['Product Name', 'Price', 'Stock Status'])\n",
    "    for row in rows[1:]:  # Skip header row\n",
    "        cols = row.find_all('td')\n",
    "        writer.writerow([col.text.strip() for col in cols])"
   ]
  },
  {
   "cell_type": "markdown",
   "id": "fda25c68-7681-4359-87f5-6d1655c14a3d",
   "metadata": {},
   "source": [
    "     3. Extract Product Information (Cards Section):\n",
    "     ● Extract data from the book cards at the bottom of the page, including:\n",
    "     ● BookTitle.\n",
    "     ● Price.\n",
    "     ● StockAvailability.\n",
    "     ● Button text (e.g., \"Add to basket\").\n",
    "     ● Savethedata into a Product_Information.JSON file.\n",
    "https://www.geeksforgeeks.org/how-to-convert-python-dictionary-to-json/"
   ]
  },
  {
   "cell_type": "code",
   "execution_count": 21,
   "id": "9804b56d-98c4-41e1-9138-2d6f8350864b",
   "metadata": {},
   "outputs": [],
   "source": [
    "# 3. Extract Product Information\n",
    "cards = soup.find_all('div', class_='card')"
   ]
  },
  {
   "cell_type": "code",
   "execution_count": 36,
   "id": "4ea4b3f1-e857-4301-8dc4-69e9dd2c57aa",
   "metadata": {},
   "outputs": [],
   "source": [
    "product_data = []\n",
    "for card in cards:\n",
    "    title = card.find('h3').text\n",
    "    price = card.find('span', class_='price').text\n",
    "    availability = card.find('span', class_='availability').text\n",
    "    button_text = card.find('button').text\n",
    "\n",
    "    product_data.append({\n",
    "        'Book Title': title,\n",
    "        'Price': price,\n",
    "        'Stock Availability': availability,\n",
    "        'Button Text': button_text})"
   ]
  },
  {
   "cell_type": "code",
   "execution_count": 23,
   "id": "212b83a9-f288-4bc3-8be7-ce97567867a7",
   "metadata": {},
   "outputs": [],
   "source": [
    "with open('Product_Information.json', 'w', encoding='utf-8') as file:\n",
    "    json.dump(product_data, file, ensure_ascii=False, indent=4)"
   ]
  },
  {
   "cell_type": "markdown",
   "id": "f18802a0-3e65-410a-bfa8-f35f8c7f2e6a",
   "metadata": {},
   "source": [
    "     4. Extract Form Details:\n",
    "     ● Extract all input fields from the form, including:\n",
    "     ● Field name (e.g., username, password).\n",
    "     ● Input type (e.g., text, password, checkbox, etc.).\n",
    "     ● Default values, if any.\n",
    "     ● Savethedata into a JSON file.\n",
    "https://www.geeksforgeeks.org/how-to-convert-python-dictionary-to-json"
   ]
  },
  {
   "cell_type": "code",
   "execution_count": 24,
   "id": "0e118f92-510e-4e2b-bd64-6be46149c507",
   "metadata": {},
   "outputs": [
    {
     "data": {
      "text/plain": [
       "<form>\n",
       "<label for=\"username\">Username:</label>\n",
       "<input id=\"username\" name=\"username\" placeholder=\"Enter your username\" type=\"text\"/>\n",
       "<label for=\"password\">Password:</label>\n",
       "<input id=\"password\" name=\"password\" placeholder=\"Enter your password\" type=\"password\"/>\n",
       "<label for=\"options\">Choose an option:</label>\n",
       "<select id=\"options\" name=\"options\">\n",
       "<option value=\"option1\">Option 1</option>\n",
       "<option value=\"option2\">Option 2</option>\n",
       "<option value=\"option3\">Option 3</option>\n",
       "</select>\n",
       "<label>\n",
       "<input name=\"terms\" type=\"checkbox\"/> I agree to the terms and conditions\n",
       "            </label>\n",
       "<input type=\"submit\" value=\"Submit\"/>\n",
       "</form>"
      ]
     },
     "execution_count": 24,
     "metadata": {},
     "output_type": "execute_result"
    }
   ],
   "source": [
    "# 4. Extract Form Details\n",
    "form = soup.find('form')\n",
    "form"
   ]
  },
  {
   "cell_type": "code",
   "execution_count": 25,
   "id": "e580c5cd-962e-481d-9d83-15ee42c0b6c7",
   "metadata": {},
   "outputs": [
    {
     "data": {
      "text/plain": [
       "[<input id=\"username\" name=\"username\" placeholder=\"Enter your username\" type=\"text\"/>,\n",
       " <input id=\"password\" name=\"password\" placeholder=\"Enter your password\" type=\"password\"/>,\n",
       " <input name=\"terms\" type=\"checkbox\"/>,\n",
       " <input type=\"submit\" value=\"Submit\"/>]"
      ]
     },
     "execution_count": 25,
     "metadata": {},
     "output_type": "execute_result"
    }
   ],
   "source": [
    "inputs = form.find_all('input')\n",
    "inputs"
   ]
  },
  {
   "cell_type": "code",
   "execution_count": 26,
   "id": "ab3cd226-cb3c-4122-92ce-db243531535d",
   "metadata": {},
   "outputs": [],
   "source": [
    "form_data = []\n",
    "for input_tag in inputs:\n",
    "    field_name = input_tag.get('name')\n",
    "    input_type = input_tag.get('type')\n",
    "    default_value = input_tag.get('value', '')\n",
    "\n",
    "    form_data.append({\n",
    "        'Field Name': field_name,\n",
    "        'Input Type': input_type,\n",
    "        'Default Value': default_value\n",
    "    })"
   ]
  },
  {
   "cell_type": "code",
   "execution_count": 27,
   "id": "6c71ebe9-efe5-48f3-95a6-6fdcbd125635",
   "metadata": {},
   "outputs": [],
   "source": [
    "with open('Form_Details.json', 'w', encoding='utf-8') as file:\n",
    "    json.dump(form_data, file, ensure_ascii=False, indent=4)"
   ]
  },
  {
   "cell_type": "markdown",
   "id": "e2bb749f-9de4-49d9-94ac-0e2c246918d1",
   "metadata": {},
   "source": [
    "     5. Extract Links and Multimedia:\n",
    "     ● Extract the hyperlink (<a> tag) and its href value.\n",
    "     ● Extract the video link from the <iframe> tag.\n",
    "     ● Savethedata into a JSON file.\n",
    "https://www.geeksforgeeks.org/how-to-convert-python-dictionary-to-json/"
   ]
  },
  {
   "cell_type": "code",
   "execution_count": 28,
   "id": "290f1592-2a65-4776-877f-d232e0526d6e",
   "metadata": {},
   "outputs": [
    {
     "data": {
      "text/plain": [
       "[]"
      ]
     },
     "execution_count": 28,
     "metadata": {},
     "output_type": "execute_result"
    }
   ],
   "source": [
    "# 5. Extract Links and Multimedia\n",
    "links = [{'text': a.text, 'href': a.get('href')} for a in soup.find_all('a')]\n",
    "links"
   ]
  },
  {
   "cell_type": "code",
   "execution_count": 29,
   "id": "96e266ce-0586-42f7-bd98-76254fcd974e",
   "metadata": {},
   "outputs": [
    {
     "data": {
      "text/plain": [
       "[{'video_src': 'https://www.youtube.com/watch?v=ujf9RNuBdCU'}]"
      ]
     },
     "execution_count": 29,
     "metadata": {},
     "output_type": "execute_result"
    }
   ],
   "source": [
    "iframes = [{'video_src': iframe.get('src')} for iframe in soup.find_all('iframe')]\n",
    "iframes"
   ]
  },
  {
   "cell_type": "code",
   "execution_count": 30,
   "id": "e3ef38b3-ff61-4ac5-b13d-eb6cc9c7b553",
   "metadata": {},
   "outputs": [],
   "source": [
    "with open('Links_and_Multimedia.json', 'w', encoding='utf-8') as file:\n",
    "    json.dump({'Links': links, 'Videos': iframes}, file, ensure_ascii=False, indent=4)"
   ]
  },
  {
   "cell_type": "markdown",
   "id": "2de615f3-f048-4beb-9480-5a9e327ac3f7",
   "metadata": {},
   "source": [
    "     6. Scraping Challenge:\n",
    "     Students must write a script to extract data from the Featured Products section with the following\n",
    "     requirements:\n",
    "     ● Product Name: Located within <span class=\"name\">.\n",
    "     ● HiddenPrice: Located within <span class=\"price\">, which has style=\"display: none;\".\n",
    "     ● Available Colors: Located within <span class=\"colors\">.\n",
    "     ● Product ID: The value stored in the data-id attribute.\n",
    "     ● ExampleOutput:\n",
    "     [\n",
    "     {'id': '101', 'name': 'Wireless Headphones', 'price': '$49.99', 'colors': 'Black, White, Blue'},\n",
    "    {'id': '102', 'name': 'Smart Speaker', 'price': '$89.99', 'colors': 'Grey, Black'},\n",
    "     {'id': '103', 'name': 'Smart Watch', 'price': '$149.99', 'colors': 'Black, Silver, Gold'}\n",
    "     ]"
   ]
  },
  {
   "cell_type": "code",
   "execution_count": 31,
   "id": "4bf0be6f-ae35-4746-8bc3-2f486d2a46a8",
   "metadata": {},
   "outputs": [],
   "source": [
    "# 6. Scraping Challenge\n",
    "featured_products = []"
   ]
  },
  {
   "cell_type": "code",
   "execution_count": 32,
   "id": "86a993d8-7a5c-47ad-a19f-1f66b647aa4f",
   "metadata": {},
   "outputs": [
    {
     "data": {
      "text/plain": [
       "[]"
      ]
     },
     "execution_count": 32,
     "metadata": {},
     "output_type": "execute_result"
    }
   ],
   "source": [
    "products = soup.find_all('div', class_='featured-product')\n",
    "products"
   ]
  },
  {
   "cell_type": "code",
   "execution_count": 33,
   "id": "93bc17ce-1458-49ef-8f04-a15dc00cbe8c",
   "metadata": {},
   "outputs": [],
   "source": [
    "for product in products:\n",
    "    product_id = product.get('data-id')\n",
    "    name = product.find('span', class_='name').text\n",
    "    price = product.find('span', class_='price').text\n",
    "    colors = product.find('span', class_='colors').text\n",
    "\n",
    "    featured_products.append({\n",
    "        'id': product_id,\n",
    "        'name': name,\n",
    "        'price': price.strip(),\n",
    "        'colors': colors.strip()\n",
    "    })"
   ]
  },
  {
   "cell_type": "code",
   "execution_count": 34,
   "id": "fcc67211-e48b-4d03-9c2b-6e1a2da6d623",
   "metadata": {},
   "outputs": [],
   "source": [
    "with open('Featured_Products.json', 'w', encoding='utf-8') as file:\n",
    "    json.dump(featured_products, file, ensure_ascii=False, indent=4)"
   ]
  },
  {
   "cell_type": "code",
   "execution_count": null,
   "id": "502d50db-3a89-408c-8032-c19e78ec7044",
   "metadata": {},
   "outputs": [],
   "source": []
  },
  {
   "cell_type": "code",
   "execution_count": null,
   "id": "d77deb43-a8c7-41a2-bce5-786d98f1a7e1",
   "metadata": {},
   "outputs": [],
   "source": []
  }
 ],
 "metadata": {
  "kernelspec": {
   "display_name": "Python 3 (ipykernel)",
   "language": "python",
   "name": "python3"
  },
  "language_info": {
   "codemirror_mode": {
    "name": "ipython",
    "version": 3
   },
   "file_extension": ".py",
   "mimetype": "text/x-python",
   "name": "python",
   "nbconvert_exporter": "python",
   "pygments_lexer": "ipython3",
   "version": "3.12.7"
  }
 },
 "nbformat": 4,
 "nbformat_minor": 5
}
